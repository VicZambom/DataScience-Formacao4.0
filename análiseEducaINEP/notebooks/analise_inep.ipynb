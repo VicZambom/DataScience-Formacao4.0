{
 "cells": [
  {
   "cell_type": "markdown",
   "id": "ca104c2a",
   "metadata": {},
   "source": [
    "### Bibliotecas"
   ]
  },
  {
   "cell_type": "code",
   "execution_count": 165,
   "id": "1958ad2a-7982-4f7b-9342-e82a0d6a9fb6",
   "metadata": {},
   "outputs": [],
   "source": [
    "import pandas as pd\n",
    "import matplotlib.pyplot as plt\n",
    "import seaborn as sns\n",
    "\n",
    "%matplotlib inline\n"
   ]
  },
  {
   "cell_type": "markdown",
   "id": "e1baaf53",
   "metadata": {},
   "source": [
    "### Dados do INEP"
   ]
  },
  {
   "cell_type": "markdown",
   "id": "86084dfb",
   "metadata": {},
   "source": [
    "#### Visualizar as primeiras linhas"
   ]
  },
  {
   "cell_type": "code",
   "execution_count": 184,
   "id": "a1c6d283",
   "metadata": {},
   "outputs": [
    {
     "name": "stdout",
     "output_type": "stream",
     "text": [
      "     0               1                        2               3              4                                                               5              6                                                    7                            8                9                     10                     11                    12              13                           14                                15               16                     17               18                     19                         20                      21\n",
      "0   Ano  Código da Área        Área de Avaliação  Grau Acadêmico  Código da IES                                                    Nome da IES*  Sigla da IES*                                Organização Acadêmica     Categoria Administrativa  Código do Curso  Modalidade de Ensino  Código do Município**  Município do Curso**  Sigla da UF**   Nº de Concluintes Inscritos  Nº  de Concluintes Participantes  Nota Bruta - FG  Nota Padronizada - FG  Nota Bruta - CE  Nota Padronizada - CE  Conceito Enade (Contínuo)  Conceito Enade (Faixa)\n",
      "1  2023            6002  ENGENHARIA DE ALIMENTOS     Bacharelado            699                       FUNDAÇÃO UNIVERSIDADE FEDERAL DE RONDÔNIA           UNIR                                         Universidade              Pública Federal           116776   Educação Presencial                1100023             Ariquemes              RO                            4                                 4            50,55            2,123411382            42,75            2,107348703                2,111364373                       3\n",
      "2  2023              17                AGRONOMIA     Bacharelado           4785  INSTITUTO FEDERAL DE EDUCAÇÃO CIÊNCIA E TECNOLOGIA DE RONDÔNIA           IFRO  Instituto Federal de Educação, Ciência e Tecnologia              Pública Federal          1427412   Educação Presencial                1100023             Ariquemes              RO                           34                                34      48,33529412             2,79870416      56,88529412            3,309191089                3,181569357                       4\n",
      "3  2023            5710         ENGENHARIA CIVIL     Bacharelado           4613                                      Centro Universitário FAEMA       UNIFAEMA                                 Centro Universitário  Privada com fins lucrativos          1259888   Educação Presencial                1100023             Ariquemes              RO                           24                                21      47,82857143            2,296813462      31,13809524             1,59527528                1,770659825                       2\n",
      "4  2023              23               ENFERMAGEM     Bacharelado           4613                                      Centro Universitário FAEMA       UNIFAEMA                                 Centro Universitário  Privada com fins lucrativos           104306   Educação Presencial                1100023             Ariquemes              RO                           35                                34      46,49705882            2,348003123      44,67352941            1,596814508                1,784611662                       2\n",
      "5  2023              19                 FARMÁCIA     Bacharelado           4613                                      Centro Universitário FAEMA       UNIFAEMA                                 Centro Universitário  Privada com fins lucrativos           104308   Educação Presencial                1100023             Ariquemes              RO                           23                                23      40,16956522            1,417747523      32,63478261            0,799276435                0,953894207                       2\n",
      "6  2023              36             FISIOTERAPIA     Bacharelado           4613                                      Centro Universitário FAEMA       UNIFAEMA                                 Centro Universitário  Privada com fins lucrativos           104312   Educação Presencial                1100023             Ariquemes              RO                           29                                27      43,61111111            1,844885725      51,48148148            1,953258212                 1,92616509                       2\n",
      "7  2023              17                AGRONOMIA     Bacharelado           4613                                      Centro Universitário FAEMA       UNIFAEMA                                 Centro Universitário  Privada com fins lucrativos          1321870   Educação Presencial                1100023             Ariquemes              RO                           30                                26      43,83076923            2,110381469      44,20384615            1,648920587                1,764285807                       2\n",
      "8  2023              21  ARQUITETURA E URBANISMO     Bacharelado           4613                                      Centro Universitário FAEMA       UNIFAEMA                                 Centro Universitário  Privada com fins lucrativos          1321871   Educação Presencial                1100023             Ariquemes              RO                           15                                14      48,68571429            1,854764441      46,37142857            1,339809675                1,468548366                       2\n",
      "9  2023              19                 FARMÁCIA     Bacharelado           1540                        INSTITUTO DE ENSINO SUPERIOR DE RONDÔNIA          IESUR                                            Faculdade  Privada sem fins lucrativos          5000263   Educação Presencial                1100023             Ariquemes              RO                           26                                23      37,86956522             1,10352006      36,67391304            1,282104854                1,237458655                       2\n"
     ]
    }
   ],
   "source": [
    "import pandas as pd\n",
    "\n",
    "df = pd.read_csv('enade.csv', sep=';', encoding='latin1', header=None)\n",
    "print(df.head(10).to_string())\n",
    "\n",
    "df.columns = df.iloc[0]\n",
    "df = df[1:]\n",
    "\n",
    "\n"
   ]
  },
  {
   "cell_type": "code",
   "execution_count": 185,
   "id": "c1b5ffa2",
   "metadata": {},
   "outputs": [
    {
     "name": "stdout",
     "output_type": "stream",
     "text": [
      "['Ano', 'Código da Área', 'Área de Avaliação', 'Grau Acadêmico', 'Código da IES', 'Nome da IES*', 'Sigla da IES*', 'Organização Acadêmica', 'Categoria Administrativa', 'Código do Curso', 'Modalidade de Ensino', 'Código do Município**', 'Município do Curso**', 'Sigla da UF** ', 'Nº de Concluintes Inscritos', 'Nº  de Concluintes Participantes', 'Nota Bruta - FG', 'Nota Padronizada - FG', 'Nota Bruta - CE', 'Nota Padronizada - CE', 'Conceito Enade (Contínuo)', 'Conceito Enade (Faixa)']\n"
     ]
    }
   ],
   "source": [
    "print(df.columns.tolist())\n"
   ]
  },
  {
   "cell_type": "code",
   "execution_count": 186,
   "id": "df0866d1",
   "metadata": {},
   "outputs": [
    {
     "name": "stdout",
     "output_type": "stream",
     "text": [
      "0   Ano Código da Área        Área de Avaliação Grau Acadêmico Código da IES                                                    Nome da IES* Sigla da IES*                                Organização Acadêmica     Categoria Administrativa Código do Curso Modalidade de Ensino Código do Município** Município do Curso** Sigla da UF**  Nº de Concluintes Inscritos Nº  de Concluintes Participantes Nota Bruta - FG Nota Padronizada - FG Nota Bruta - CE Nota Padronizada - CE Conceito Enade (Contínuo) Conceito Enade (Faixa)\n",
      "1  2023           6002  ENGENHARIA DE ALIMENTOS    Bacharelado           699                       FUNDAÇÃO UNIVERSIDADE FEDERAL DE RONDÔNIA          UNIR                                         Universidade              Pública Federal          116776  Educação Presencial               1100023            Ariquemes             RO                           4                                4           50,55           2,123411382           42,75           2,107348703               2,111364373                      3\n",
      "2  2023             17                AGRONOMIA    Bacharelado          4785  INSTITUTO FEDERAL DE EDUCAÇÃO CIÊNCIA E TECNOLOGIA DE RONDÔNIA          IFRO  Instituto Federal de Educação, Ciência e Tecnologia              Pública Federal         1427412  Educação Presencial               1100023            Ariquemes             RO                          34                               34     48,33529412            2,79870416     56,88529412           3,309191089               3,181569357                      4\n",
      "3  2023           5710         ENGENHARIA CIVIL    Bacharelado          4613                                      Centro Universitário FAEMA      UNIFAEMA                                 Centro Universitário  Privada com fins lucrativos         1259888  Educação Presencial               1100023            Ariquemes             RO                          24                               21     47,82857143           2,296813462     31,13809524            1,59527528               1,770659825                      2\n",
      "4  2023             23               ENFERMAGEM    Bacharelado          4613                                      Centro Universitário FAEMA      UNIFAEMA                                 Centro Universitário  Privada com fins lucrativos          104306  Educação Presencial               1100023            Ariquemes             RO                          35                               34     46,49705882           2,348003123     44,67352941           1,596814508               1,784611662                      2\n",
      "5  2023             19                 FARMÁCIA    Bacharelado          4613                                      Centro Universitário FAEMA      UNIFAEMA                                 Centro Universitário  Privada com fins lucrativos          104308  Educação Presencial               1100023            Ariquemes             RO                          23                               23     40,16956522           1,417747523     32,63478261           0,799276435               0,953894207                      2\n"
     ]
    }
   ],
   "source": [
    "print(df.head().to_string())\n",
    "\n"
   ]
  },
  {
   "cell_type": "markdown",
   "id": "5ebee07b",
   "metadata": {},
   "source": [
    "#### Descrição"
   ]
  },
  {
   "cell_type": "markdown",
   "id": "e8dfde30",
   "metadata": {},
   "source": [
    "##### O conjunto de dados utilizado foi extraído do INEP (ENADE) e contém informações sobre cursos superiores, incluindo ano, área de avaliação, instituição, município, notas brutas e padronizadas, e conceito ENADE. Esses dados são úteis para análise de desempenho acadêmico em todo o Brasil."
   ]
  },
  {
   "cell_type": "markdown",
   "id": "fb51c5b9",
   "metadata": {},
   "source": [
    "### Limpeza e seleção dos dados"
   ]
  },
  {
   "cell_type": "markdown",
   "id": "5212d515",
   "metadata": {},
   "source": [
    "#### Informação geral"
   ]
  },
  {
   "cell_type": "code",
   "execution_count": 187,
   "id": "3c9fd425",
   "metadata": {},
   "outputs": [
    {
     "name": "stdout",
     "output_type": "stream",
     "text": [
      "<class 'pandas.core.frame.DataFrame'>\n",
      "RangeIndex: 9815 entries, 1 to 9815\n",
      "Data columns (total 22 columns):\n",
      " #   Column                            Non-Null Count  Dtype \n",
      "---  ------                            --------------  ----- \n",
      " 0   Ano                               9814 non-null   object\n",
      " 1   Código da Área                    9812 non-null   object\n",
      " 2   Área de Avaliação                 9812 non-null   object\n",
      " 3   Grau Acadêmico                    9812 non-null   object\n",
      " 4   Código da IES                     9812 non-null   object\n",
      " 5   Nome da IES*                      9812 non-null   object\n",
      " 6   Sigla da IES*                     8567 non-null   object\n",
      " 7   Organização Acadêmica             9812 non-null   object\n",
      " 8   Categoria Administrativa          9812 non-null   object\n",
      " 9   Código do Curso                   9812 non-null   object\n",
      " 10  Modalidade de Ensino              9812 non-null   object\n",
      " 11  Código do Município**             9812 non-null   object\n",
      " 12  Município do Curso**              9812 non-null   object\n",
      " 13  Sigla da UF**                     9812 non-null   object\n",
      " 14  Nº de Concluintes Inscritos       9812 non-null   object\n",
      " 15  Nº  de Concluintes Participantes  9812 non-null   object\n",
      " 16  Nota Bruta - FG                   9380 non-null   object\n",
      " 17  Nota Padronizada - FG             9380 non-null   object\n",
      " 18  Nota Bruta - CE                   9380 non-null   object\n",
      " 19  Nota Padronizada - CE             9380 non-null   object\n",
      " 20  Conceito Enade (Contínuo)         9380 non-null   object\n",
      " 21  Conceito Enade (Faixa)            9812 non-null   object\n",
      "dtypes: object(22)\n",
      "memory usage: 1.6+ MB\n",
      "None\n"
     ]
    }
   ],
   "source": [
    "print(df.info())\n"
   ]
  },
  {
   "cell_type": "markdown",
   "id": "2f728115",
   "metadata": {},
   "source": [
    "#### Estatística básica"
   ]
  },
  {
   "cell_type": "code",
   "execution_count": 188,
   "id": "614fb058",
   "metadata": {},
   "outputs": [
    {
     "name": "stdout",
     "output_type": "stream",
     "text": [
      "0        Ano Código da Área Área de Avaliação Grau Acadêmico Código da IES  \\\n",
      "count   9814           9812              9812           9812          9812   \n",
      "unique     3             28                28              2          1347   \n",
      "top     2023             23        ENFERMAGEM    Bacharelado           322   \n",
      "freq    9812            976               976           9079           263   \n",
      "\n",
      "0                Nome da IES* Sigla da IES* Organização Acadêmica  \\\n",
      "count                    9812          8567                  9812   \n",
      "unique                   1347          1015                     5   \n",
      "top     UNIVERSIDADE PAULISTA          UNIP          Universidade   \n",
      "freq                      263           263                  3709   \n",
      "\n",
      "0          Categoria Administrativa Código do Curso  ... Município do Curso**  \\\n",
      "count                          9812            9812  ...                 9812   \n",
      "unique                            7            9812  ...                  712   \n",
      "top     Privada com fins lucrativos           18030  ...            São Paulo   \n",
      "freq                           5049               1  ...                  575   \n",
      "\n",
      "0      Sigla da UF**  Nº de Concluintes Inscritos  \\\n",
      "count            9812                        9812   \n",
      "unique             27                         314   \n",
      "top                SP                           1   \n",
      "freq             2162                         237   \n",
      "\n",
      "0      Nº  de Concluintes Participantes Nota Bruta - FG Nota Padronizada - FG  \\\n",
      "count                              9812            9380                  9380   \n",
      "unique                              281            8321                  9189   \n",
      "top                                  10            43,6                     0   \n",
      "freq                                264               8                    53   \n",
      "\n",
      "0      Nota Bruta - CE Nota Padronizada - CE Conceito Enade (Contínuo)  \\\n",
      "count             9380                  9380                      9380   \n",
      "unique            8471                  9112                      9365   \n",
      "top               30,7                     5                         5   \n",
      "freq                10                    53                        12   \n",
      "\n",
      "0      Conceito Enade (Faixa)  \n",
      "count                    9812  \n",
      "unique                      6  \n",
      "top                         3  \n",
      "freq                     3636  \n",
      "\n",
      "[4 rows x 22 columns]\n"
     ]
    }
   ],
   "source": [
    "print(df.describe())\n"
   ]
  },
  {
   "cell_type": "markdown",
   "id": "40df51f0",
   "metadata": {},
   "source": [
    "#### Verificação de valores ausentes"
   ]
  },
  {
   "cell_type": "code",
   "execution_count": 189,
   "id": "4474b8ed",
   "metadata": {},
   "outputs": [
    {
     "name": "stdout",
     "output_type": "stream",
     "text": [
      "'Ano'\n",
      "'Código da Área'\n",
      "'Área de Avaliação'\n",
      "'Grau Acadêmico'\n",
      "'Código da IES'\n",
      "'Nome da IES*'\n",
      "'Sigla da IES*'\n",
      "'Organização Acadêmica'\n",
      "'Categoria Administrativa'\n",
      "'Código do Curso'\n",
      "'Modalidade de Ensino'\n",
      "'Código do Município**'\n",
      "'Município do Curso**'\n",
      "'Sigla da UF** '\n",
      "'Nº de Concluintes Inscritos'\n",
      "'Nº  de Concluintes Participantes'\n",
      "'Nota Bruta - FG'\n",
      "'Nota Padronizada - FG'\n",
      "'Nota Bruta - CE'\n",
      "'Nota Padronizada - CE'\n",
      "'Conceito Enade (Contínuo)'\n",
      "'Conceito Enade (Faixa)'\n"
     ]
    }
   ],
   "source": [
    "for col in df.columns:\n",
    "    print(f\"'{col}'\")\n"
   ]
  },
  {
   "cell_type": "code",
   "execution_count": 190,
   "id": "1381cf37",
   "metadata": {},
   "outputs": [
    {
     "name": "stdout",
     "output_type": "stream",
     "text": [
      "0\n",
      "Ano                                    1\n",
      "Código da Área                         3\n",
      "Área de Avaliação                      3\n",
      "Grau Acadêmico                         3\n",
      "Código da IES                          3\n",
      "Nome da IES*                           3\n",
      "Sigla da IES*                       1248\n",
      "Organização Acadêmica                  3\n",
      "Categoria Administrativa               3\n",
      "Código do Curso                        3\n",
      "Modalidade de Ensino                   3\n",
      "Código do Município**                  3\n",
      "Município do Curso**                   3\n",
      "Sigla da UF**                          3\n",
      "Nº de Concluintes Inscritos            3\n",
      "Nº  de Concluintes Participantes       3\n",
      "Nota Bruta - FG                      435\n",
      "Nota Padronizada - FG                435\n",
      "Nota Bruta - CE                      435\n",
      "Nota Padronizada - CE                435\n",
      "Conceito Enade (Contínuo)            435\n",
      "Conceito Enade (Faixa)                 3\n",
      "dtype: int64\n"
     ]
    }
   ],
   "source": [
    "valores_ausentes = df.isnull().sum()\n",
    "\n",
    "print(valores_ausentes)\n",
    "\n"
   ]
  },
  {
   "cell_type": "markdown",
   "id": "97f15d7b",
   "metadata": {},
   "source": [
    "#### Colunas relevantes"
   ]
  },
  {
   "cell_type": "code",
   "execution_count": 191,
   "id": "ef4daad4",
   "metadata": {},
   "outputs": [],
   "source": [
    "colunas_relevantes = [\n",
    "    'Ano',\n",
    "    'Área de Avaliação',\n",
    "    'Grau Acadêmico',\n",
    "    'Organização Acadêmica',\n",
    "    'Categoria Administrativa',\n",
    "    'Modalidade de Ensino',\n",
    "    'Município do Curso**',\n",
    "    'Sigla da UF** ',\n",
    "    'Nº de Concluintes Inscritos',\n",
    "    'Nº  de Concluintes Participantes',\n",
    "    'Conceito Enade (Faixa)'\n",
    "]"
   ]
  },
  {
   "cell_type": "code",
   "execution_count": 192,
   "id": "c700be65",
   "metadata": {},
   "outputs": [],
   "source": [
    "df = df[colunas_relevantes]\n"
   ]
  },
  {
   "cell_type": "code",
   "execution_count": 193,
   "id": "1fc15d9e",
   "metadata": {},
   "outputs": [
    {
     "data": {
      "application/vnd.microsoft.datawrangler.viewer.v0+json": {
       "columns": [
        {
         "name": "index",
         "rawType": "int64",
         "type": "integer"
        },
        {
         "name": "Ano",
         "rawType": "object",
         "type": "unknown"
        },
        {
         "name": "Área de Avaliação",
         "rawType": "object",
         "type": "unknown"
        },
        {
         "name": "Grau Acadêmico",
         "rawType": "object",
         "type": "unknown"
        },
        {
         "name": "Organização Acadêmica",
         "rawType": "object",
         "type": "unknown"
        },
        {
         "name": "Categoria Administrativa",
         "rawType": "object",
         "type": "unknown"
        },
        {
         "name": "Modalidade de Ensino",
         "rawType": "object",
         "type": "unknown"
        },
        {
         "name": "Município do Curso**",
         "rawType": "object",
         "type": "unknown"
        },
        {
         "name": "Sigla da UF** ",
         "rawType": "object",
         "type": "unknown"
        },
        {
         "name": "Nº de Concluintes Inscritos",
         "rawType": "object",
         "type": "unknown"
        },
        {
         "name": "Nº  de Concluintes Participantes",
         "rawType": "object",
         "type": "unknown"
        },
        {
         "name": "Conceito Enade (Faixa)",
         "rawType": "object",
         "type": "unknown"
        }
       ],
       "conversionMethod": "pd.DataFrame",
       "ref": "803171be-e110-4bde-991d-5b831b904351",
       "rows": [
        [
         "1",
         "2023",
         "ENGENHARIA DE ALIMENTOS",
         "Bacharelado",
         "Universidade",
         "Pública Federal",
         "Educação Presencial",
         "Ariquemes",
         "RO",
         "4",
         "4",
         "3"
        ],
        [
         "2",
         "2023",
         "AGRONOMIA",
         "Bacharelado",
         "Instituto Federal de Educação, Ciência e Tecnologia",
         "Pública Federal",
         "Educação Presencial",
         "Ariquemes",
         "RO",
         "34",
         "34",
         "4"
        ],
        [
         "3",
         "2023",
         "ENGENHARIA CIVIL",
         "Bacharelado",
         "Centro Universitário",
         "Privada com fins lucrativos",
         "Educação Presencial",
         "Ariquemes",
         "RO",
         "24",
         "21",
         "2"
        ],
        [
         "4",
         "2023",
         "ENFERMAGEM",
         "Bacharelado",
         "Centro Universitário",
         "Privada com fins lucrativos",
         "Educação Presencial",
         "Ariquemes",
         "RO",
         "35",
         "34",
         "2"
        ],
        [
         "5",
         "2023",
         "FARMÁCIA",
         "Bacharelado",
         "Centro Universitário",
         "Privada com fins lucrativos",
         "Educação Presencial",
         "Ariquemes",
         "RO",
         "23",
         "23",
         "2"
        ],
        [
         "6",
         "2023",
         "FISIOTERAPIA",
         "Bacharelado",
         "Centro Universitário",
         "Privada com fins lucrativos",
         "Educação Presencial",
         "Ariquemes",
         "RO",
         "29",
         "27",
         "2"
        ],
        [
         "7",
         "2023",
         "AGRONOMIA",
         "Bacharelado",
         "Centro Universitário",
         "Privada com fins lucrativos",
         "Educação Presencial",
         "Ariquemes",
         "RO",
         "30",
         "26",
         "2"
        ],
        [
         "8",
         "2023",
         "ARQUITETURA E URBANISMO",
         "Bacharelado",
         "Centro Universitário",
         "Privada com fins lucrativos",
         "Educação Presencial",
         "Ariquemes",
         "RO",
         "15",
         "14",
         "2"
        ],
        [
         "9",
         "2023",
         "FARMÁCIA",
         "Bacharelado",
         "Faculdade",
         "Privada sem fins lucrativos",
         "Educação Presencial",
         "Ariquemes",
         "RO",
         "26",
         "23",
         "2"
        ],
        [
         "10",
         "2023",
         "NUTRIÇÃO",
         "Bacharelado",
         "Faculdade",
         "Privada sem fins lucrativos",
         "Educação Presencial",
         "Ariquemes",
         "RO",
         "17",
         "17",
         "2"
        ],
        [
         "11",
         "2023",
         "ENFERMAGEM",
         "Bacharelado",
         "Faculdade",
         "Privada sem fins lucrativos",
         "Educação Presencial",
         "Ariquemes",
         "RO",
         "26",
         "25",
         "2"
        ],
        [
         "12",
         "2023",
         "FARMÁCIA",
         "Bacharelado",
         "Centro Universitário",
         "Privada com fins lucrativos",
         "Educação Presencial",
         "Cacoal",
         "RO",
         "13",
         "13",
         "3"
        ],
        [
         "13",
         "2023",
         "TECNOLOGIA EM ESTÉTICA E COSMÉTICA",
         "Tecnológico",
         "Faculdade",
         "Privada com fins lucrativos",
         "Educação Presencial",
         "Cacoal",
         "RO",
         "6",
         "6",
         "3"
        ],
        [
         "14",
         "2023",
         "FISIOTERAPIA",
         "Bacharelado",
         "Faculdade",
         "Privada com fins lucrativos",
         "Educação Presencial",
         "Cacoal",
         "RO",
         "8",
         "7",
         "2"
        ],
        [
         "15",
         "2023",
         "ENFERMAGEM",
         "Bacharelado",
         "Faculdade",
         "Privada com fins lucrativos",
         "Educação Presencial",
         "Cacoal",
         "RO",
         "20",
         "18",
         "3"
        ],
        [
         "16",
         "2023",
         "BIOMEDICINA",
         "Bacharelado",
         "Faculdade",
         "Privada com fins lucrativos",
         "Educação Presencial",
         "Cacoal",
         "RO",
         "15",
         "13",
         "2"
        ],
        [
         "17",
         "2023",
         "FARMÁCIA",
         "Bacharelado",
         "Faculdade",
         "Privada com fins lucrativos",
         "Educação Presencial",
         "Cacoal",
         "RO",
         "16",
         "7",
         "2"
        ],
        [
         "18",
         "2023",
         "ENGENHARIA CIVIL",
         "Bacharelado",
         "Faculdade",
         "Privada com fins lucrativos",
         "Educação Presencial",
         "Cacoal",
         "RO",
         "5",
         "4",
         "3"
        ],
        [
         "19",
         "2023",
         "ODONTOLOGIA",
         "Bacharelado",
         "Faculdade",
         "Privada com fins lucrativos",
         "Educação Presencial",
         "Cacoal",
         "RO",
         "15",
         "12",
         "2"
        ],
        [
         "20",
         "2023",
         "AGRONOMIA",
         "Bacharelado",
         "Faculdade",
         "Privada com fins lucrativos",
         "Educação Presencial",
         "Cacoal",
         "RO",
         "20",
         "14",
         "2"
        ],
        [
         "21",
         "2023",
         "NUTRIÇÃO",
         "Bacharelado",
         "Centro Universitário",
         "Privada sem fins lucrativos",
         "Educação Presencial",
         "Petrópolis",
         "RJ",
         "34",
         "25",
         "4"
        ],
        [
         "22",
         "2023",
         "ZOOTECNIA",
         "Bacharelado",
         "Instituto Federal de Educação, Ciência e Tecnologia",
         "Pública Federal",
         "Educação Presencial",
         "Cacoal",
         "RO",
         "31",
         "24",
         "2"
        ],
        [
         "23",
         "2023",
         "TECNOLOGIA EM AGRONEGÓCIOS",
         "Tecnológico",
         "Instituto Federal de Educação, Ciência e Tecnologia",
         "Pública Federal",
         "Educação Presencial",
         "Cacoal",
         "RO",
         "18",
         "9",
         "2"
        ],
        [
         "24",
         "2023",
         "NUTRIÇÃO",
         "Bacharelado",
         "Centro Universitário",
         "Privada com fins lucrativos",
         "Educação Presencial",
         "Cacoal",
         "RO",
         "35",
         "33",
         "2"
        ],
        [
         "25",
         "2023",
         "ENGENHARIA CIVIL",
         "Bacharelado",
         "Centro Universitário",
         "Privada com fins lucrativos",
         "Educação Presencial",
         "Cacoal",
         "RO",
         "14",
         "10",
         "2"
        ],
        [
         "26",
         "2023",
         "ARQUITETURA E URBANISMO",
         "Bacharelado",
         "Centro Universitário",
         "Privada com fins lucrativos",
         "Educação Presencial",
         "Cacoal",
         "RO",
         "21",
         "16",
         "2"
        ],
        [
         "27",
         "2023",
         "ENGENHARIA MECÂNICA",
         "Bacharelado",
         "Centro Universitário",
         "Privada com fins lucrativos",
         "Educação Presencial",
         "Cacoal",
         "RO",
         "16",
         "0",
         "SC"
        ],
        [
         "28",
         "2023",
         "BIOMEDICINA",
         "Bacharelado",
         "Centro Universitário",
         "Privada com fins lucrativos",
         "Educação Presencial",
         "Cacoal",
         "RO",
         "15",
         "13",
         "2"
        ],
        [
         "29",
         "2023",
         "FISIOTERAPIA",
         "Bacharelado",
         "Centro Universitário",
         "Privada com fins lucrativos",
         "Educação Presencial",
         "Cacoal",
         "RO",
         "37",
         "34",
         "3"
        ],
        [
         "30",
         "2023",
         "ARQUITETURA E URBANISMO",
         "Bacharelado",
         "Centro Universitário",
         "Privada com fins lucrativos",
         "Educação Presencial",
         "Cacoal",
         "RO",
         "27",
         "14",
         "3"
        ],
        [
         "31",
         "2023",
         "MEDICINA VETERINÁRIA",
         "Bacharelado",
         "Centro Universitário",
         "Privada com fins lucrativos",
         "Educação Presencial",
         "Cacoal",
         "RO",
         "60",
         "56",
         "2"
        ],
        [
         "32",
         "2023",
         "MEDICINA",
         "Bacharelado",
         "Centro Universitário",
         "Privada com fins lucrativos",
         "Educação Presencial",
         "Cacoal",
         "RO",
         "96",
         "95",
         "3"
        ],
        [
         "33",
         "2023",
         "ODONTOLOGIA",
         "Bacharelado",
         "Centro Universitário",
         "Privada com fins lucrativos",
         "Educação Presencial",
         "Cacoal",
         "RO",
         "47",
         "45",
         "2"
        ],
        [
         "34",
         "2023",
         "ENGENHARIA CIVIL",
         "Bacharelado",
         "Centro Universitário",
         "Privada com fins lucrativos",
         "Educação Presencial",
         "Cacoal",
         "RO",
         "8",
         "5",
         "2"
        ],
        [
         "35",
         "2023",
         "ENGENHARIA ELÉTRICA",
         "Bacharelado",
         "Centro Universitário",
         "Privada com fins lucrativos",
         "Educação Presencial",
         "Cacoal",
         "RO",
         "24",
         "20",
         "3"
        ],
        [
         "36",
         "2023",
         "ENFERMAGEM",
         "Bacharelado",
         "Centro Universitário",
         "Privada com fins lucrativos",
         "Educação Presencial",
         "Cacoal",
         "RO",
         "50",
         "46",
         "3"
        ],
        [
         "37",
         "2023",
         "TECNOLOGIA EM GESTÃO AMBIENTAL",
         "Tecnológico",
         "Instituto Federal de Educação, Ciência e Tecnologia",
         "Pública Federal",
         "Educação Presencial",
         "Colorado do Oeste",
         "RO",
         "9",
         "7",
         "3"
        ],
        [
         "38",
         "2023",
         "ZOOTECNIA",
         "Bacharelado",
         "Instituto Federal de Educação, Ciência e Tecnologia",
         "Pública Federal",
         "Educação Presencial",
         "Colorado do Oeste",
         "RO",
         "51",
         "51",
         "3"
        ],
        [
         "39",
         "2023",
         "AGRONOMIA",
         "Bacharelado",
         "Instituto Federal de Educação, Ciência e Tecnologia",
         "Pública Federal",
         "Educação Presencial",
         "Colorado do Oeste",
         "RO",
         "83",
         "59",
         "3"
        ],
        [
         "40",
         "2023",
         "ODONTOLOGIA",
         "Bacharelado",
         "Faculdade",
         "Privada sem fins lucrativos",
         "Educação Presencial",
         "Jaru",
         "RO",
         "33",
         "33",
         "3"
        ],
        [
         "41",
         "2023",
         "FARMÁCIA",
         "Bacharelado",
         "Faculdade",
         "Privada sem fins lucrativos",
         "Educação Presencial",
         "Jaru",
         "RO",
         "39",
         "36",
         "2"
        ],
        [
         "42",
         "2023",
         "ENFERMAGEM",
         "Bacharelado",
         "Faculdade",
         "Privada sem fins lucrativos",
         "Educação Presencial",
         "Jaru",
         "RO",
         "23",
         "22",
         "3"
        ],
        [
         "43",
         "2023",
         "FISIOTERAPIA",
         "Bacharelado",
         "Centro Universitário",
         "Comunitária/Confessional",
         "Educação Presencial",
         "Ji-Paraná",
         "RO",
         "25",
         "24",
         "3"
        ],
        [
         "44",
         "2023",
         "ENGENHARIA FLORESTAL",
         "Bacharelado",
         "Instituto Federal de Educação, Ciência e Tecnologia",
         "Pública Federal",
         "Educação Presencial",
         "Ji-Paraná",
         "RO",
         "19",
         "18",
         "3"
        ],
        [
         "45",
         "2023",
         "ENFERMAGEM",
         "Bacharelado",
         "Centro Universitário",
         "Privada com fins lucrativos",
         "Educação Presencial",
         "Ji-Paraná",
         "RO",
         "12",
         "5",
         "3"
        ],
        [
         "46",
         "2023",
         "ENGENHARIA CIVIL",
         "Bacharelado",
         "Centro Universitário",
         "Privada com fins lucrativos",
         "Educação Presencial",
         "Ji-Paraná",
         "RO",
         "35",
         "29",
         "2"
        ],
        [
         "47",
         "2023",
         "ENGENHARIA AMBIENTAL",
         "Bacharelado",
         "Centro Universitário",
         "Privada com fins lucrativos",
         "Educação Presencial",
         "Ji-Paraná",
         "RO",
         "1",
         "0",
         "SC"
        ],
        [
         "48",
         "2023",
         "ODONTOLOGIA",
         "Bacharelado",
         "Centro Universitário",
         "Privada com fins lucrativos",
         "Educação Presencial",
         "Ji-Paraná",
         "RO",
         "24",
         "22",
         "2"
        ],
        [
         "49",
         "2023",
         "BIOMEDICINA",
         "Bacharelado",
         "Centro Universitário",
         "Privada com fins lucrativos",
         "Educação Presencial",
         "Ji-Paraná",
         "RO",
         "21",
         "17",
         "2"
        ],
        [
         "50",
         "2023",
         "NUTRIÇÃO",
         "Bacharelado",
         "Centro Universitário",
         "Privada com fins lucrativos",
         "Educação Presencial",
         "Ji-Paraná",
         "RO",
         "34",
         "30",
         "3"
        ]
       ],
       "shape": {
        "columns": 11,
        "rows": 9815
       }
      },
      "text/html": [
       "<div>\n",
       "<style scoped>\n",
       "    .dataframe tbody tr th:only-of-type {\n",
       "        vertical-align: middle;\n",
       "    }\n",
       "\n",
       "    .dataframe tbody tr th {\n",
       "        vertical-align: top;\n",
       "    }\n",
       "\n",
       "    .dataframe thead th {\n",
       "        text-align: right;\n",
       "    }\n",
       "</style>\n",
       "<table border=\"1\" class=\"dataframe\">\n",
       "  <thead>\n",
       "    <tr style=\"text-align: right;\">\n",
       "      <th></th>\n",
       "      <th>Ano</th>\n",
       "      <th>Área de Avaliação</th>\n",
       "      <th>Grau Acadêmico</th>\n",
       "      <th>Organização Acadêmica</th>\n",
       "      <th>Categoria Administrativa</th>\n",
       "      <th>Modalidade de Ensino</th>\n",
       "      <th>Município do Curso**</th>\n",
       "      <th>Sigla da UF**</th>\n",
       "      <th>Nº de Concluintes Inscritos</th>\n",
       "      <th>Nº  de Concluintes Participantes</th>\n",
       "      <th>Conceito Enade (Faixa)</th>\n",
       "    </tr>\n",
       "  </thead>\n",
       "  <tbody>\n",
       "    <tr>\n",
       "      <th>1</th>\n",
       "      <td>2023</td>\n",
       "      <td>ENGENHARIA DE ALIMENTOS</td>\n",
       "      <td>Bacharelado</td>\n",
       "      <td>Universidade</td>\n",
       "      <td>Pública Federal</td>\n",
       "      <td>Educação Presencial</td>\n",
       "      <td>Ariquemes</td>\n",
       "      <td>RO</td>\n",
       "      <td>4</td>\n",
       "      <td>4</td>\n",
       "      <td>3</td>\n",
       "    </tr>\n",
       "    <tr>\n",
       "      <th>2</th>\n",
       "      <td>2023</td>\n",
       "      <td>AGRONOMIA</td>\n",
       "      <td>Bacharelado</td>\n",
       "      <td>Instituto Federal de Educação, Ciência e Tecno...</td>\n",
       "      <td>Pública Federal</td>\n",
       "      <td>Educação Presencial</td>\n",
       "      <td>Ariquemes</td>\n",
       "      <td>RO</td>\n",
       "      <td>34</td>\n",
       "      <td>34</td>\n",
       "      <td>4</td>\n",
       "    </tr>\n",
       "    <tr>\n",
       "      <th>3</th>\n",
       "      <td>2023</td>\n",
       "      <td>ENGENHARIA CIVIL</td>\n",
       "      <td>Bacharelado</td>\n",
       "      <td>Centro Universitário</td>\n",
       "      <td>Privada com fins lucrativos</td>\n",
       "      <td>Educação Presencial</td>\n",
       "      <td>Ariquemes</td>\n",
       "      <td>RO</td>\n",
       "      <td>24</td>\n",
       "      <td>21</td>\n",
       "      <td>2</td>\n",
       "    </tr>\n",
       "    <tr>\n",
       "      <th>4</th>\n",
       "      <td>2023</td>\n",
       "      <td>ENFERMAGEM</td>\n",
       "      <td>Bacharelado</td>\n",
       "      <td>Centro Universitário</td>\n",
       "      <td>Privada com fins lucrativos</td>\n",
       "      <td>Educação Presencial</td>\n",
       "      <td>Ariquemes</td>\n",
       "      <td>RO</td>\n",
       "      <td>35</td>\n",
       "      <td>34</td>\n",
       "      <td>2</td>\n",
       "    </tr>\n",
       "    <tr>\n",
       "      <th>5</th>\n",
       "      <td>2023</td>\n",
       "      <td>FARMÁCIA</td>\n",
       "      <td>Bacharelado</td>\n",
       "      <td>Centro Universitário</td>\n",
       "      <td>Privada com fins lucrativos</td>\n",
       "      <td>Educação Presencial</td>\n",
       "      <td>Ariquemes</td>\n",
       "      <td>RO</td>\n",
       "      <td>23</td>\n",
       "      <td>23</td>\n",
       "      <td>2</td>\n",
       "    </tr>\n",
       "    <tr>\n",
       "      <th>...</th>\n",
       "      <td>...</td>\n",
       "      <td>...</td>\n",
       "      <td>...</td>\n",
       "      <td>...</td>\n",
       "      <td>...</td>\n",
       "      <td>...</td>\n",
       "      <td>...</td>\n",
       "      <td>...</td>\n",
       "      <td>...</td>\n",
       "      <td>...</td>\n",
       "      <td>...</td>\n",
       "    </tr>\n",
       "    <tr>\n",
       "      <th>9811</th>\n",
       "      <td>2023</td>\n",
       "      <td>ENGENHARIA MECÂNICA</td>\n",
       "      <td>Bacharelado</td>\n",
       "      <td>Universidade</td>\n",
       "      <td>Pública Federal</td>\n",
       "      <td>Educação Presencial</td>\n",
       "      <td>Brasília</td>\n",
       "      <td>DF</td>\n",
       "      <td>76</td>\n",
       "      <td>64</td>\n",
       "      <td>5</td>\n",
       "    </tr>\n",
       "    <tr>\n",
       "      <th>9812</th>\n",
       "      <td>2023</td>\n",
       "      <td>FARMÁCIA</td>\n",
       "      <td>Bacharelado</td>\n",
       "      <td>Universidade</td>\n",
       "      <td>Pública Federal</td>\n",
       "      <td>Educação Presencial</td>\n",
       "      <td>Brasília</td>\n",
       "      <td>DF</td>\n",
       "      <td>45</td>\n",
       "      <td>42</td>\n",
       "      <td>4</td>\n",
       "    </tr>\n",
       "    <tr>\n",
       "      <th>9813</th>\n",
       "      <td>NaN</td>\n",
       "      <td>NaN</td>\n",
       "      <td>NaN</td>\n",
       "      <td>NaN</td>\n",
       "      <td>NaN</td>\n",
       "      <td>NaN</td>\n",
       "      <td>NaN</td>\n",
       "      <td>NaN</td>\n",
       "      <td>NaN</td>\n",
       "      <td>NaN</td>\n",
       "      <td>NaN</td>\n",
       "    </tr>\n",
       "    <tr>\n",
       "      <th>9814</th>\n",
       "      <td>* Nome e Sigla da IES atualizados na data da d...</td>\n",
       "      <td>NaN</td>\n",
       "      <td>NaN</td>\n",
       "      <td>NaN</td>\n",
       "      <td>NaN</td>\n",
       "      <td>NaN</td>\n",
       "      <td>NaN</td>\n",
       "      <td>NaN</td>\n",
       "      <td>NaN</td>\n",
       "      <td>NaN</td>\n",
       "      <td>NaN</td>\n",
       "    </tr>\n",
       "    <tr>\n",
       "      <th>9815</th>\n",
       "      <td>** Para os cursos na modalidade a distância, o...</td>\n",
       "      <td>NaN</td>\n",
       "      <td>NaN</td>\n",
       "      <td>NaN</td>\n",
       "      <td>NaN</td>\n",
       "      <td>NaN</td>\n",
       "      <td>NaN</td>\n",
       "      <td>NaN</td>\n",
       "      <td>NaN</td>\n",
       "      <td>NaN</td>\n",
       "      <td>NaN</td>\n",
       "    </tr>\n",
       "  </tbody>\n",
       "</table>\n",
       "<p>9815 rows × 11 columns</p>\n",
       "</div>"
      ],
      "text/plain": [
       "0                                                   Ano  \\\n",
       "1                                                  2023   \n",
       "2                                                  2023   \n",
       "3                                                  2023   \n",
       "4                                                  2023   \n",
       "5                                                  2023   \n",
       "...                                                 ...   \n",
       "9811                                               2023   \n",
       "9812                                               2023   \n",
       "9813                                                NaN   \n",
       "9814  * Nome e Sigla da IES atualizados na data da d...   \n",
       "9815  ** Para os cursos na modalidade a distância, o...   \n",
       "\n",
       "0           Área de Avaliação Grau Acadêmico  \\\n",
       "1     ENGENHARIA DE ALIMENTOS    Bacharelado   \n",
       "2                   AGRONOMIA    Bacharelado   \n",
       "3            ENGENHARIA CIVIL    Bacharelado   \n",
       "4                  ENFERMAGEM    Bacharelado   \n",
       "5                    FARMÁCIA    Bacharelado   \n",
       "...                       ...            ...   \n",
       "9811      ENGENHARIA MECÂNICA    Bacharelado   \n",
       "9812                 FARMÁCIA    Bacharelado   \n",
       "9813                      NaN            NaN   \n",
       "9814                      NaN            NaN   \n",
       "9815                      NaN            NaN   \n",
       "\n",
       "0                                 Organização Acadêmica  \\\n",
       "1                                          Universidade   \n",
       "2     Instituto Federal de Educação, Ciência e Tecno...   \n",
       "3                                  Centro Universitário   \n",
       "4                                  Centro Universitário   \n",
       "5                                  Centro Universitário   \n",
       "...                                                 ...   \n",
       "9811                                       Universidade   \n",
       "9812                                       Universidade   \n",
       "9813                                                NaN   \n",
       "9814                                                NaN   \n",
       "9815                                                NaN   \n",
       "\n",
       "0        Categoria Administrativa Modalidade de Ensino Município do Curso**  \\\n",
       "1                 Pública Federal  Educação Presencial            Ariquemes   \n",
       "2                 Pública Federal  Educação Presencial            Ariquemes   \n",
       "3     Privada com fins lucrativos  Educação Presencial            Ariquemes   \n",
       "4     Privada com fins lucrativos  Educação Presencial            Ariquemes   \n",
       "5     Privada com fins lucrativos  Educação Presencial            Ariquemes   \n",
       "...                           ...                  ...                  ...   \n",
       "9811              Pública Federal  Educação Presencial             Brasília   \n",
       "9812              Pública Federal  Educação Presencial             Brasília   \n",
       "9813                          NaN                  NaN                  NaN   \n",
       "9814                          NaN                  NaN                  NaN   \n",
       "9815                          NaN                  NaN                  NaN   \n",
       "\n",
       "0    Sigla da UF**  Nº de Concluintes Inscritos  \\\n",
       "1                RO                           4   \n",
       "2                RO                          34   \n",
       "3                RO                          24   \n",
       "4                RO                          35   \n",
       "5                RO                          23   \n",
       "...             ...                         ...   \n",
       "9811             DF                          76   \n",
       "9812             DF                          45   \n",
       "9813            NaN                         NaN   \n",
       "9814            NaN                         NaN   \n",
       "9815            NaN                         NaN   \n",
       "\n",
       "0    Nº  de Concluintes Participantes Conceito Enade (Faixa)  \n",
       "1                                   4                      3  \n",
       "2                                  34                      4  \n",
       "3                                  21                      2  \n",
       "4                                  34                      2  \n",
       "5                                  23                      2  \n",
       "...                               ...                    ...  \n",
       "9811                               64                      5  \n",
       "9812                               42                      4  \n",
       "9813                              NaN                    NaN  \n",
       "9814                              NaN                    NaN  \n",
       "9815                              NaN                    NaN  \n",
       "\n",
       "[9815 rows x 11 columns]"
      ]
     },
     "execution_count": 193,
     "metadata": {},
     "output_type": "execute_result"
    }
   ],
   "source": [
    "df"
   ]
  },
  {
   "cell_type": "markdown",
   "id": "571c46b7",
   "metadata": {},
   "source": [
    "#### Verificar e remover valores ausentes"
   ]
  },
  {
   "cell_type": "code",
   "execution_count": 194,
   "id": "c1f9ddb7",
   "metadata": {},
   "outputs": [
    {
     "name": "stdout",
     "output_type": "stream",
     "text": [
      "0\n",
      "Ano                                 1\n",
      "Área de Avaliação                   3\n",
      "Grau Acadêmico                      3\n",
      "Organização Acadêmica               3\n",
      "Categoria Administrativa            3\n",
      "Modalidade de Ensino                3\n",
      "Município do Curso**                3\n",
      "Sigla da UF**                       3\n",
      "Nº de Concluintes Inscritos         3\n",
      "Nº  de Concluintes Participantes    3\n",
      "Conceito Enade (Faixa)              3\n",
      "dtype: int64\n"
     ]
    }
   ],
   "source": [
    "valores_ausentes = df.isnull().sum()\n",
    "print(valores_ausentes)\n"
   ]
  },
  {
   "cell_type": "code",
   "execution_count": 195,
   "id": "ebdb8397",
   "metadata": {},
   "outputs": [
    {
     "name": "stdout",
     "output_type": "stream",
     "text": [
      "Colunas removidas: []\n"
     ]
    }
   ],
   "source": [
    "limite_ausentes = 10\n",
    "colunas_remover = df.columns[df.isnull().sum() > limite_ausentes]\n",
    "df = df.drop(columns=colunas_remover)\n",
    "print(\"Colunas removidas:\", colunas_remover.tolist())\n"
   ]
  },
  {
   "cell_type": "code",
   "execution_count": 196,
   "id": "4cad5ea8",
   "metadata": {},
   "outputs": [
    {
     "name": "stdout",
     "output_type": "stream",
     "text": [
      "Colunas restantes: ['Ano', 'Área de Avaliação', 'Grau Acadêmico', 'Organização Acadêmica', 'Categoria Administrativa', 'Modalidade de Ensino', 'Município do Curso**', 'Sigla da UF** ', 'Nº de Concluintes Inscritos', 'Nº  de Concluintes Participantes', 'Conceito Enade (Faixa)']\n"
     ]
    }
   ],
   "source": [
    "print(\"Colunas restantes:\", df.columns.tolist())\n"
   ]
  },
  {
   "cell_type": "markdown",
   "id": "2682d8af",
   "metadata": {},
   "source": [
    "### Groupby"
   ]
  },
  {
   "cell_type": "markdown",
   "id": "f221436c",
   "metadata": {},
   "source": [
    "#### Total de concluintes participantes por curso"
   ]
  },
  {
   "cell_type": "code",
   "execution_count": 197,
   "id": "9fdc0e48",
   "metadata": {},
   "outputs": [
    {
     "name": "stdout",
     "output_type": "stream",
     "text": [
      "                      Área de Avaliação  \\\n",
      "0                             AGRONOMIA   \n",
      "1               ARQUITETURA E URBANISMO   \n",
      "2                           BIOMEDICINA   \n",
      "3                            ENFERMAGEM   \n",
      "4                  ENGENHARIA AMBIENTAL   \n",
      "5                      ENGENHARIA CIVIL   \n",
      "6               ENGENHARIA DE ALIMENTOS   \n",
      "7            ENGENHARIA DE COMPUTAÇÃO I   \n",
      "8    ENGENHARIA DE CONTROLE E AUTOMAÇÃO   \n",
      "9                ENGENHARIA DE PRODUÇÃO   \n",
      "10                  ENGENHARIA ELÉTRICA   \n",
      "11                 ENGENHARIA FLORESTAL   \n",
      "12                  ENGENHARIA MECÂNICA   \n",
      "13                   ENGENHARIA QUÍMICA   \n",
      "14                             FARMÁCIA   \n",
      "15                         FISIOTERAPIA   \n",
      "16                       FONOAUDIOLOGIA   \n",
      "17                             MEDICINA   \n",
      "18                 MEDICINA VETERINÁRIA   \n",
      "19                             NUTRIÇÃO   \n",
      "20                          ODONTOLOGIA   \n",
      "21           TECNOLOGIA EM AGRONEGÓCIOS   \n",
      "22   TECNOLOGIA EM ESTÉTICA E COSMÉTICA   \n",
      "23       TECNOLOGIA EM GESTÃO AMBIENTAL   \n",
      "24      TECNOLOGIA EM GESTÃO HOSPITALAR   \n",
      "25             TECNOLOGIA EM RADIOLOGIA   \n",
      "26  TECNOLOGIA EM SEGURANÇA NO TRABALHO   \n",
      "27                            ZOOTECNIA   \n",
      "\n",
      "                     Nº  de Concluintes Participantes  \n",
      "0   3426145923153118443912309432721188539839133134...  \n",
      "1   1416141304810267414111037926185253216189352341...  \n",
      "2   1313172614465107174341176038621420657825820313...  \n",
      "3   3425184622526912197691519421426244126235934280...  \n",
      "4   0160016133201435504353171720261605712112624217...  \n",
      "5   2141052925012184715141133732113194683218262614...  \n",
      "6   4253217302170251710194043714131324212110431426...  \n",
      "7   1211111933451638243662134855725258557074760859...  \n",
      "8   1618341435201107714240324111023669424116628671...  \n",
      "9   0043925164131254181501735446226182109141446156...  \n",
      "10  2015934272228312896694614272919112242112626152...  \n",
      "11  1820343023331327342030283313112219362213112344...  \n",
      "12  0151030627903101115301243643132822545101673528...  \n",
      "13  1230132831251554061743847460611911111025328736...  \n",
      "14  2323137362313941519222023182528204140397723440...  \n",
      "15  2773424131211711169111194611293427284824283910...  \n",
      "16  1813548767323110122382123431043407223514241622...  \n",
      "17  9516384143972402063133133120246127117143163561...  \n",
      "18  5616413722551334263152646466999769202957277930...  \n",
      "19  1725333011245222125262535106224128331581548362...  \n",
      "20  1245332214214510172332302430193471672218711422...  \n",
      "21  9022333107424291047581184261193032101513175720...  \n",
      "22  6211713719730391223371826136625152171377635551...  \n",
      "23  7157718919153017818142643131084332222330331152...  \n",
      "24  4717131683562023815505940871132141532612228913...  \n",
      "25  3414971750111617109435125221617864615313293332...  \n",
      "26             21257262544341410710243511383235824862  \n",
      "27  2451618692521164638122416323353924718142012147...  \n"
     ]
    }
   ],
   "source": [
    "total_participantes_por_area = df.groupby('Área de Avaliação')['Nº  de Concluintes Participantes'].sum().reset_index()\n",
    "\n",
    "print(total_participantes_por_area)\n"
   ]
  },
  {
   "cell_type": "markdown",
   "id": "d7b1d5cc",
   "metadata": {},
   "source": [
    "### Visualizações"
   ]
  },
  {
   "cell_type": "markdown",
   "id": "9e8551ac",
   "metadata": {},
   "source": [
    "#### Gráfico de barras"
   ]
  },
  {
   "cell_type": "code",
   "execution_count": 198,
   "id": "67a98ff4",
   "metadata": {},
   "outputs": [
    {
     "name": "stdout",
     "output_type": "stream",
     "text": [
      "                      Área de Avaliação  \\\n",
      "0                             AGRONOMIA   \n",
      "1               ARQUITETURA E URBANISMO   \n",
      "2                           BIOMEDICINA   \n",
      "3                            ENFERMAGEM   \n",
      "4                  ENGENHARIA AMBIENTAL   \n",
      "5                      ENGENHARIA CIVIL   \n",
      "6               ENGENHARIA DE ALIMENTOS   \n",
      "7            ENGENHARIA DE COMPUTAÇÃO I   \n",
      "8    ENGENHARIA DE CONTROLE E AUTOMAÇÃO   \n",
      "9                ENGENHARIA DE PRODUÇÃO   \n",
      "10                  ENGENHARIA ELÉTRICA   \n",
      "11                 ENGENHARIA FLORESTAL   \n",
      "12                  ENGENHARIA MECÂNICA   \n",
      "13                   ENGENHARIA QUÍMICA   \n",
      "14                             FARMÁCIA   \n",
      "15                         FISIOTERAPIA   \n",
      "16                       FONOAUDIOLOGIA   \n",
      "17                             MEDICINA   \n",
      "18                 MEDICINA VETERINÁRIA   \n",
      "19                             NUTRIÇÃO   \n",
      "20                          ODONTOLOGIA   \n",
      "21           TECNOLOGIA EM AGRONEGÓCIOS   \n",
      "22   TECNOLOGIA EM ESTÉTICA E COSMÉTICA   \n",
      "23       TECNOLOGIA EM GESTÃO AMBIENTAL   \n",
      "24      TECNOLOGIA EM GESTÃO HOSPITALAR   \n",
      "25             TECNOLOGIA EM RADIOLOGIA   \n",
      "26  TECNOLOGIA EM SEGURANÇA NO TRABALHO   \n",
      "27                            ZOOTECNIA   \n",
      "\n",
      "                     Nº  de Concluintes Participantes  \n",
      "0   3426145923153118443912309432721188539839133134...  \n",
      "1   1416141304810267414111037926185253216189352341...  \n",
      "2   1313172614465107174341176038621420657825820313...  \n",
      "3   3425184622526912197691519421426244126235934280...  \n",
      "4   0160016133201435504353171720261605712112624217...  \n",
      "5   2141052925012184715141133732113194683218262614...  \n",
      "6   4253217302170251710194043714131324212110431426...  \n",
      "7   1211111933451638243662134855725258557074760859...  \n",
      "8   1618341435201107714240324111023669424116628671...  \n",
      "9   0043925164131254181501735446226182109141446156...  \n",
      "10  2015934272228312896694614272919112242112626152...  \n",
      "11  1820343023331327342030283313112219362213112344...  \n",
      "12  0151030627903101115301243643132822545101673528...  \n",
      "13  1230132831251554061743847460611911111025328736...  \n",
      "14  2323137362313941519222023182528204140397723440...  \n",
      "15  2773424131211711169111194611293427284824283910...  \n",
      "16  1813548767323110122382123431043407223514241622...  \n",
      "17  9516384143972402063133133120246127117143163561...  \n",
      "18  5616413722551334263152646466999769202957277930...  \n",
      "19  1725333011245222125262535106224128331581548362...  \n",
      "20  1245332214214510172332302430193471672218711422...  \n",
      "21  9022333107424291047581184261193032101513175720...  \n",
      "22  6211713719730391223371826136625152171377635551...  \n",
      "23  7157718919153017818142643131084332222330331152...  \n",
      "24  4717131683562023815505940871132141532612228913...  \n",
      "25  3414971750111617109435125221617864615313293332...  \n",
      "26             21257262544341410710243511383235824862  \n",
      "27  2451618692521164638122416323353924718142012147...  \n"
     ]
    }
   ],
   "source": [
    "total_participantes_por_area = df.groupby('Área de Avaliação')['Nº  de Concluintes Participantes'].sum().reset_index()\n",
    "\n",
    "print(total_participantes_por_area)"
   ]
  },
  {
   "cell_type": "code",
   "execution_count": 199,
   "id": "858894dc",
   "metadata": {},
   "outputs": [
    {
     "name": "stderr",
     "output_type": "stream",
     "text": [
      "C:\\Users\\vickg\\AppData\\Local\\Temp\\ipykernel_26184\\1919823896.py:7: FutureWarning: \n",
      "\n",
      "Passing `palette` without assigning `hue` is deprecated and will be removed in v0.14.0. Assign the `x` variable to `hue` and set `legend=False` for the same effect.\n",
      "\n",
      "  ax = sns.barplot(\n",
      "C:\\Users\\vickg\\AppData\\Local\\Temp\\ipykernel_26184\\1919823896.py:20: UserWarning: Tight layout not applied. The left and right margins cannot be made large enough to accommodate all Axes decorations.\n",
      "  plt.tight_layout()\n"
     ]
    },
    {
     "data": {
      "image/png": "[encoded data removed]",
      "text/plain": [
       "<Figure size 1200x600 with 1 Axes>"
      ]
     },
     "metadata": {},
     "output_type": "display_data"
    }
   ],
   "source": [
    "import matplotlib.pyplot as plt\n",
    "import seaborn as sns\n",
    "\n",
    "top_10 = total_participantes_por_area.sort_values(by='Nº  de Concluintes Participantes', ascending=False).head(10)\n",
    "\n",
    "plt.figure(figsize=(12,6))\n",
    "ax = sns.barplot(\n",
    "    x='Nº  de Concluintes Participantes',\n",
    "    y='Área de Avaliação',\n",
    "    data=top_10,\n",
    "    palette='viridis'\n",
    ")\n",
    "\n",
    "for i in ax.containers:\n",
    "    ax.bar_label(i, fmt='%.0f', label_type='edge', padding=3)\n",
    "\n",
    "plt.title('Top 10 Áreas com Mais Concluintes Participantes')\n",
    "plt.xlabel('Total de Concluintes Participantes')\n",
    "plt.ylabel('Área de Avaliação')\n",
    "plt.tight_layout()\n",
    "plt.savefig(\"grafico_top_10_areas.png\", dpi=300)\n",
    "plt.show()"
   ]
  },
  {
   "cell_type": "code",
   "execution_count": 201,
   "id": "c778caa2",
   "metadata": {},
   "outputs": [],
   "source": [
    "df.to_csv('dadosEnade_tratados.csv', index=False)\n"
   ]
  }
 ],
 "metadata": {
  "kernelspec": {
   "display_name": "venv",
   "language": "python",
   "name": "python3"
  },
  "language_info": {
   "codemirror_mode": {
    "name": "ipython",
    "version": 3
   },
   "file_extension": ".py",
   "mimetype": "text/x-python",
   "name": "python",
   "nbconvert_exporter": "python",
   "pygments_lexer": "ipython3",
   "version": "3.12.6"
  }
 },
 "nbformat": 4,
 "nbformat_minor": 5
}
