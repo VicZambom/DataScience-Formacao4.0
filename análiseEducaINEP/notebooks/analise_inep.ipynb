{
 "cells": [
  {
   "cell_type": "code",
   "execution_count": 2,
   "id": "1958ad2a-7982-4f7b-9342-e82a0d6a9fb6",
   "metadata": {},
   "outputs": [],
   "source": [
    "import pandas as pd\n",
    "import matplotlib.pyplot as plt\n",
    "import seaborn as sns\n",
    "\n",
    "# Mostrar gráficos diretamente no notebook\n",
    "%matplotlib inline\n"
   ]
  },
  {
   "cell_type": "markdown",
   "id": "e1baaf53",
   "metadata": {},
   "source": [
    "## Carregando os dados do INEP"
   ]
  },
  {
   "cell_type": "markdown",
   "id": "86084dfb",
   "metadata": {},
   "source": [
    "#### Visualizar as primeiras linhas"
   ]
  },
  {
   "cell_type": "code",
   "execution_count": 2,
   "id": "a1c6d283",
   "metadata": {},
   "outputs": [
    {
     "data": {
      "application/vnd.microsoft.datawrangler.viewer.v0+json": {
       "columns": [
        {
         "name": "index",
         "rawType": "int64",
         "type": "integer"
        },
        {
         "name": "Ano",
         "rawType": "object",
         "type": "string"
        },
        {
         "name": "Código da Área",
         "rawType": "float64",
         "type": "float"
        },
        {
         "name": "Área de Avaliação",
         "rawType": "object",
         "type": "string"
        },
        {
         "name": "Grau Acadêmico",
         "rawType": "object",
         "type": "string"
        },
        {
         "name": "Código da IES",
         "rawType": "float64",
         "type": "float"
        },
        {
         "name": "Nome da IES*",
         "rawType": "object",
         "type": "string"
        },
        {
         "name": "Sigla da IES*",
         "rawType": "object",
         "type": "string"
        },
        {
         "name": "Organização Acadêmica",
         "rawType": "object",
         "type": "string"
        },
        {
         "name": "Categoria Administrativa",
         "rawType": "object",
         "type": "string"
        },
        {
         "name": "Código do Curso",
         "rawType": "float64",
         "type": "float"
        },
        {
         "name": "Modalidade de Ensino",
         "rawType": "object",
         "type": "string"
        },
        {
         "name": "Código do Município**",
         "rawType": "float64",
         "type": "float"
        },
        {
         "name": "Município do Curso**",
         "rawType": "object",
         "type": "string"
        },
        {
         "name": "Sigla da UF** ",
         "rawType": "object",
         "type": "string"
        },
        {
         "name": "Nº de Concluintes Inscritos",
         "rawType": "float64",
         "type": "float"
        },
        {
         "name": "Nº  de Concluintes Participantes",
         "rawType": "float64",
         "type": "float"
        },
        {
         "name": "Nota Bruta - FG",
         "rawType": "object",
         "type": "string"
        },
        {
         "name": "Nota Padronizada - FG",
         "rawType": "object",
         "type": "string"
        },
        {
         "name": "Nota Bruta - CE",
         "rawType": "object",
         "type": "string"
        },
        {
         "name": "Nota Padronizada - CE",
         "rawType": "object",
         "type": "string"
        },
        {
         "name": "Conceito Enade (Contínuo)",
         "rawType": "object",
         "type": "string"
        },
        {
         "name": "Conceito Enade (Faixa)",
         "rawType": "object",
         "type": "string"
        }
       ],
       "conversionMethod": "pd.DataFrame",
       "ref": "e935d58e-ccac-4269-b20e-659ad4a5c93d",
       "rows": [
        [
         "0",
         "2023",
         "6002.0",
         "ENGENHARIA DE ALIMENTOS",
         "Bacharelado",
         "699.0",
         "FUNDAÇÃO UNIVERSIDADE FEDERAL DE RONDÔNIA",
         "UNIR",
         "Universidade",
         "Pública Federal",
         "116776.0",
         "Educação Presencial",
         "1100023.0",
         "Ariquemes",
         "RO",
         "4.0",
         "4.0",
         "50,55",
         "2,123411382",
         "42,75",
         "2,107348703",
         "2,111364373",
         "3"
        ],
        [
         "1",
         "2023",
         "17.0",
         "AGRONOMIA",
         "Bacharelado",
         "4785.0",
         "INSTITUTO FEDERAL DE EDUCAÇÃO CIÊNCIA E TECNOLOGIA DE RONDÔNIA",
         "IFRO",
         "Instituto Federal de Educação, Ciência e Tecnologia",
         "Pública Federal",
         "1427412.0",
         "Educação Presencial",
         "1100023.0",
         "Ariquemes",
         "RO",
         "34.0",
         "34.0",
         "48,33529412",
         "2,79870416",
         "56,88529412",
         "3,309191089",
         "3,181569357",
         "4"
        ],
        [
         "2",
         "2023",
         "5710.0",
         "ENGENHARIA CIVIL",
         "Bacharelado",
         "4613.0",
         "Centro Universitário FAEMA",
         "UNIFAEMA",
         "Centro Universitário",
         "Privada com fins lucrativos",
         "1259888.0",
         "Educação Presencial",
         "1100023.0",
         "Ariquemes",
         "RO",
         "24.0",
         "21.0",
         "47,82857143",
         "2,296813462",
         "31,13809524",
         "1,59527528",
         "1,770659825",
         "2"
        ],
        [
         "3",
         "2023",
         "23.0",
         "ENFERMAGEM",
         "Bacharelado",
         "4613.0",
         "Centro Universitário FAEMA",
         "UNIFAEMA",
         "Centro Universitário",
         "Privada com fins lucrativos",
         "104306.0",
         "Educação Presencial",
         "1100023.0",
         "Ariquemes",
         "RO",
         "35.0",
         "34.0",
         "46,49705882",
         "2,348003123",
         "44,67352941",
         "1,596814508",
         "1,784611662",
         "2"
        ],
        [
         "4",
         "2023",
         "19.0",
         "FARMÁCIA",
         "Bacharelado",
         "4613.0",
         "Centro Universitário FAEMA",
         "UNIFAEMA",
         "Centro Universitário",
         "Privada com fins lucrativos",
         "104308.0",
         "Educação Presencial",
         "1100023.0",
         "Ariquemes",
         "RO",
         "23.0",
         "23.0",
         "40,16956522",
         "1,417747523",
         "32,63478261",
         "0,799276435",
         "0,953894207",
         "2"
        ]
       ],
       "shape": {
        "columns": 22,
        "rows": 5
       }
      },
      "text/html": [
       "<div>\n",
       "<style scoped>\n",
       "    .dataframe tbody tr th:only-of-type {\n",
       "        vertical-align: middle;\n",
       "    }\n",
       "\n",
       "    .dataframe tbody tr th {\n",
       "        vertical-align: top;\n",
       "    }\n",
       "\n",
       "    .dataframe thead th {\n",
       "        text-align: right;\n",
       "    }\n",
       "</style>\n",
       "<table border=\"1\" class=\"dataframe\">\n",
       "  <thead>\n",
       "    <tr style=\"text-align: right;\">\n",
       "      <th></th>\n",
       "      <th>Ano</th>\n",
       "      <th>Código da Área</th>\n",
       "      <th>Área de Avaliação</th>\n",
       "      <th>Grau Acadêmico</th>\n",
       "      <th>Código da IES</th>\n",
       "      <th>Nome da IES*</th>\n",
       "      <th>Sigla da IES*</th>\n",
       "      <th>Organização Acadêmica</th>\n",
       "      <th>Categoria Administrativa</th>\n",
       "      <th>Código do Curso</th>\n",
       "      <th>...</th>\n",
       "      <th>Município do Curso**</th>\n",
       "      <th>Sigla da UF**</th>\n",
       "      <th>Nº de Concluintes Inscritos</th>\n",
       "      <th>Nº  de Concluintes Participantes</th>\n",
       "      <th>Nota Bruta - FG</th>\n",
       "      <th>Nota Padronizada - FG</th>\n",
       "      <th>Nota Bruta - CE</th>\n",
       "      <th>Nota Padronizada - CE</th>\n",
       "      <th>Conceito Enade (Contínuo)</th>\n",
       "      <th>Conceito Enade (Faixa)</th>\n",
       "    </tr>\n",
       "  </thead>\n",
       "  <tbody>\n",
       "    <tr>\n",
       "      <th>0</th>\n",
       "      <td>2023</td>\n",
       "      <td>6002.0</td>\n",
       "      <td>ENGENHARIA DE ALIMENTOS</td>\n",
       "      <td>Bacharelado</td>\n",
       "      <td>699.0</td>\n",
       "      <td>FUNDAÇÃO UNIVERSIDADE FEDERAL DE RONDÔNIA</td>\n",
       "      <td>UNIR</td>\n",
       "      <td>Universidade</td>\n",
       "      <td>Pública Federal</td>\n",
       "      <td>116776.0</td>\n",
       "      <td>...</td>\n",
       "      <td>Ariquemes</td>\n",
       "      <td>RO</td>\n",
       "      <td>4.0</td>\n",
       "      <td>4.0</td>\n",
       "      <td>50,55</td>\n",
       "      <td>2,123411382</td>\n",
       "      <td>42,75</td>\n",
       "      <td>2,107348703</td>\n",
       "      <td>2,111364373</td>\n",
       "      <td>3</td>\n",
       "    </tr>\n",
       "    <tr>\n",
       "      <th>1</th>\n",
       "      <td>2023</td>\n",
       "      <td>17.0</td>\n",
       "      <td>AGRONOMIA</td>\n",
       "      <td>Bacharelado</td>\n",
       "      <td>4785.0</td>\n",
       "      <td>INSTITUTO FEDERAL DE EDUCAÇÃO CIÊNCIA E TECNOL...</td>\n",
       "      <td>IFRO</td>\n",
       "      <td>Instituto Federal de Educação, Ciência e Tecno...</td>\n",
       "      <td>Pública Federal</td>\n",
       "      <td>1427412.0</td>\n",
       "      <td>...</td>\n",
       "      <td>Ariquemes</td>\n",
       "      <td>RO</td>\n",
       "      <td>34.0</td>\n",
       "      <td>34.0</td>\n",
       "      <td>48,33529412</td>\n",
       "      <td>2,79870416</td>\n",
       "      <td>56,88529412</td>\n",
       "      <td>3,309191089</td>\n",
       "      <td>3,181569357</td>\n",
       "      <td>4</td>\n",
       "    </tr>\n",
       "    <tr>\n",
       "      <th>2</th>\n",
       "      <td>2023</td>\n",
       "      <td>5710.0</td>\n",
       "      <td>ENGENHARIA CIVIL</td>\n",
       "      <td>Bacharelado</td>\n",
       "      <td>4613.0</td>\n",
       "      <td>Centro Universitário FAEMA</td>\n",
       "      <td>UNIFAEMA</td>\n",
       "      <td>Centro Universitário</td>\n",
       "      <td>Privada com fins lucrativos</td>\n",
       "      <td>1259888.0</td>\n",
       "      <td>...</td>\n",
       "      <td>Ariquemes</td>\n",
       "      <td>RO</td>\n",
       "      <td>24.0</td>\n",
       "      <td>21.0</td>\n",
       "      <td>47,82857143</td>\n",
       "      <td>2,296813462</td>\n",
       "      <td>31,13809524</td>\n",
       "      <td>1,59527528</td>\n",
       "      <td>1,770659825</td>\n",
       "      <td>2</td>\n",
       "    </tr>\n",
       "    <tr>\n",
       "      <th>3</th>\n",
       "      <td>2023</td>\n",
       "      <td>23.0</td>\n",
       "      <td>ENFERMAGEM</td>\n",
       "      <td>Bacharelado</td>\n",
       "      <td>4613.0</td>\n",
       "      <td>Centro Universitário FAEMA</td>\n",
       "      <td>UNIFAEMA</td>\n",
       "      <td>Centro Universitário</td>\n",
       "      <td>Privada com fins lucrativos</td>\n",
       "      <td>104306.0</td>\n",
       "      <td>...</td>\n",
       "      <td>Ariquemes</td>\n",
       "      <td>RO</td>\n",
       "      <td>35.0</td>\n",
       "      <td>34.0</td>\n",
       "      <td>46,49705882</td>\n",
       "      <td>2,348003123</td>\n",
       "      <td>44,67352941</td>\n",
       "      <td>1,596814508</td>\n",
       "      <td>1,784611662</td>\n",
       "      <td>2</td>\n",
       "    </tr>\n",
       "    <tr>\n",
       "      <th>4</th>\n",
       "      <td>2023</td>\n",
       "      <td>19.0</td>\n",
       "      <td>FARMÁCIA</td>\n",
       "      <td>Bacharelado</td>\n",
       "      <td>4613.0</td>\n",
       "      <td>Centro Universitário FAEMA</td>\n",
       "      <td>UNIFAEMA</td>\n",
       "      <td>Centro Universitário</td>\n",
       "      <td>Privada com fins lucrativos</td>\n",
       "      <td>104308.0</td>\n",
       "      <td>...</td>\n",
       "      <td>Ariquemes</td>\n",
       "      <td>RO</td>\n",
       "      <td>23.0</td>\n",
       "      <td>23.0</td>\n",
       "      <td>40,16956522</td>\n",
       "      <td>1,417747523</td>\n",
       "      <td>32,63478261</td>\n",
       "      <td>0,799276435</td>\n",
       "      <td>0,953894207</td>\n",
       "      <td>2</td>\n",
       "    </tr>\n",
       "  </tbody>\n",
       "</table>\n",
       "<p>5 rows × 22 columns</p>\n",
       "</div>"
      ],
      "text/plain": [
       "    Ano  Código da Área        Área de Avaliação Grau Acadêmico  \\\n",
       "0  2023          6002.0  ENGENHARIA DE ALIMENTOS    Bacharelado   \n",
       "1  2023            17.0                AGRONOMIA    Bacharelado   \n",
       "2  2023          5710.0         ENGENHARIA CIVIL    Bacharelado   \n",
       "3  2023            23.0               ENFERMAGEM    Bacharelado   \n",
       "4  2023            19.0                 FARMÁCIA    Bacharelado   \n",
       "\n",
       "   Código da IES                                       Nome da IES*  \\\n",
       "0          699.0          FUNDAÇÃO UNIVERSIDADE FEDERAL DE RONDÔNIA   \n",
       "1         4785.0  INSTITUTO FEDERAL DE EDUCAÇÃO CIÊNCIA E TECNOL...   \n",
       "2         4613.0                         Centro Universitário FAEMA   \n",
       "3         4613.0                         Centro Universitário FAEMA   \n",
       "4         4613.0                         Centro Universitário FAEMA   \n",
       "\n",
       "  Sigla da IES*                              Organização Acadêmica  \\\n",
       "0          UNIR                                       Universidade   \n",
       "1          IFRO  Instituto Federal de Educação, Ciência e Tecno...   \n",
       "2      UNIFAEMA                               Centro Universitário   \n",
       "3      UNIFAEMA                               Centro Universitário   \n",
       "4      UNIFAEMA                               Centro Universitário   \n",
       "\n",
       "      Categoria Administrativa  Código do Curso  ... Município do Curso**  \\\n",
       "0              Pública Federal         116776.0  ...            Ariquemes   \n",
       "1              Pública Federal        1427412.0  ...            Ariquemes   \n",
       "2  Privada com fins lucrativos        1259888.0  ...            Ariquemes   \n",
       "3  Privada com fins lucrativos         104306.0  ...            Ariquemes   \n",
       "4  Privada com fins lucrativos         104308.0  ...            Ariquemes   \n",
       "\n",
       "   Sigla da UF**  Nº de Concluintes Inscritos  \\\n",
       "0              RO                         4.0   \n",
       "1              RO                        34.0   \n",
       "2              RO                        24.0   \n",
       "3              RO                        35.0   \n",
       "4              RO                        23.0   \n",
       "\n",
       "  Nº  de Concluintes Participantes  Nota Bruta - FG  Nota Padronizada - FG  \\\n",
       "0                              4.0            50,55            2,123411382   \n",
       "1                             34.0      48,33529412             2,79870416   \n",
       "2                             21.0      47,82857143            2,296813462   \n",
       "3                             34.0      46,49705882            2,348003123   \n",
       "4                             23.0      40,16956522            1,417747523   \n",
       "\n",
       "  Nota Bruta - CE Nota Padronizada - CE Conceito Enade (Contínuo)  \\\n",
       "0           42,75           2,107348703               2,111364373   \n",
       "1     56,88529412           3,309191089               3,181569357   \n",
       "2     31,13809524            1,59527528               1,770659825   \n",
       "3     44,67352941           1,596814508               1,784611662   \n",
       "4     32,63478261           0,799276435               0,953894207   \n",
       "\n",
       "  Conceito Enade (Faixa)  \n",
       "0                      3  \n",
       "1                      4  \n",
       "2                      2  \n",
       "3                      2  \n",
       "4                      2  \n",
       "\n",
       "[5 rows x 22 columns]"
      ]
     },
     "execution_count": 2,
     "metadata": {},
     "output_type": "execute_result"
    }
   ],
   "source": [
    "import pandas as pd\n",
    "\n",
    "df = pd.read_csv('enade.csv', sep=';', encoding='latin1')\n",
    "df.head()\n"
   ]
  },
  {
   "cell_type": "markdown",
   "id": "1b92bfe2",
   "metadata": {},
   "source": [
    "#### Estrutura da tabela"
   ]
  },
  {
   "cell_type": "code",
   "execution_count": 5,
   "id": "3e6c8b5b",
   "metadata": {},
   "outputs": [
    {
     "name": "stdout",
     "output_type": "stream",
     "text": [
      "<class 'pandas.core.frame.DataFrame'>\n",
      "RangeIndex: 9815 entries, 0 to 9814\n",
      "Data columns (total 22 columns):\n",
      " #   Column                            Non-Null Count  Dtype  \n",
      "---  ------                            --------------  -----  \n",
      " 0   Ano                               9814 non-null   object \n",
      " 1   Código da Área                    9812 non-null   float64\n",
      " 2   Área de Avaliação                 9812 non-null   object \n",
      " 3   Grau Acadêmico                    9812 non-null   object \n",
      " 4   Código da IES                     9812 non-null   float64\n",
      " 5   Nome da IES*                      9812 non-null   object \n",
      " 6   Sigla da IES*                     8567 non-null   object \n",
      " 7   Organização Acadêmica             9812 non-null   object \n",
      " 8   Categoria Administrativa          9812 non-null   object \n",
      " 9   Código do Curso                   9812 non-null   float64\n",
      " 10  Modalidade de Ensino              9812 non-null   object \n",
      " 11  Código do Município**             9812 non-null   float64\n",
      " 12  Município do Curso**              9812 non-null   object \n",
      " 13  Sigla da UF**                     9812 non-null   object \n",
      " 14  Nº de Concluintes Inscritos       9812 non-null   float64\n",
      " 15  Nº  de Concluintes Participantes  9812 non-null   float64\n",
      " 16  Nota Bruta - FG                   9380 non-null   object \n",
      " 17  Nota Padronizada - FG             9380 non-null   object \n",
      " 18  Nota Bruta - CE                   9380 non-null   object \n",
      " 19  Nota Padronizada - CE             9380 non-null   object \n",
      " 20  Conceito Enade (Contínuo)         9380 non-null   object \n",
      " 21  Conceito Enade (Faixa)            9812 non-null   object \n",
      "dtypes: float64(6), object(16)\n",
      "memory usage: 1.6+ MB\n"
     ]
    }
   ],
   "source": [
    "df.info()\n"
   ]
  },
  {
   "cell_type": "markdown",
   "id": "49dcd51d",
   "metadata": {},
   "source": [
    "#### Estatísticas Básicas"
   ]
  },
  {
   "cell_type": "code",
   "execution_count": 6,
   "id": "acea294c",
   "metadata": {},
   "outputs": [
    {
     "data": {
      "application/vnd.microsoft.datawrangler.viewer.v0+json": {
       "columns": [
        {
         "name": "index",
         "rawType": "object",
         "type": "string"
        },
        {
         "name": "Código da Área",
         "rawType": "float64",
         "type": "float"
        },
        {
         "name": "Código da IES",
         "rawType": "float64",
         "type": "float"
        },
        {
         "name": "Código do Curso",
         "rawType": "float64",
         "type": "float"
        },
        {
         "name": "Código do Município**",
         "rawType": "float64",
         "type": "float"
        },
        {
         "name": "Nº de Concluintes Inscritos",
         "rawType": "float64",
         "type": "float"
        },
        {
         "name": "Nº  de Concluintes Participantes",
         "rawType": "float64",
         "type": "float"
        }
       ],
       "conversionMethod": "pd.DataFrame",
       "ref": "d0787a06-e51e-473f-a678-f6a45397c40b",
       "rows": [
        [
         "count",
         "9812.0",
         "9812.0",
         "9812.0",
         "9812.0",
         "9812.0",
         "9812.0"
        ],
        [
         "mean",
         "2093.514777823074",
         "2845.561557276804",
         "853044.2520383204",
         "3408139.812882185",
         "41.40786791683653",
         "35.33713819812475"
        ],
        [
         "std",
         "2825.5447087810667",
         "4760.763675119927",
         "955640.0635704251",
         "942534.874079296",
         "82.06585140130616",
         "64.37974114506262"
        ],
        [
         "min",
         "5.0",
         "1.0",
         "3.0",
         "1100023.0",
         "1.0",
         "0.0"
        ],
        [
         "25%",
         "21.0",
         "437.0",
         "81947.75",
         "2927408.0",
         "13.0",
         "11.0"
        ],
        [
         "50%",
         "36.0",
         "1173.0",
         "1158212.5",
         "3505500.0",
         "26.0",
         "23.0"
        ],
        [
         "75%",
         "5806.0",
         "2779.0",
         "1330392.25",
         "4113700.0",
         "47.0",
         "41.0"
        ],
        [
         "max",
         "6411.0",
         "25352.0",
         "50017068.0",
         "5300108.0",
         "3754.0",
         "2874.0"
        ]
       ],
       "shape": {
        "columns": 6,
        "rows": 8
       }
      },
      "text/html": [
       "<div>\n",
       "<style scoped>\n",
       "    .dataframe tbody tr th:only-of-type {\n",
       "        vertical-align: middle;\n",
       "    }\n",
       "\n",
       "    .dataframe tbody tr th {\n",
       "        vertical-align: top;\n",
       "    }\n",
       "\n",
       "    .dataframe thead th {\n",
       "        text-align: right;\n",
       "    }\n",
       "</style>\n",
       "<table border=\"1\" class=\"dataframe\">\n",
       "  <thead>\n",
       "    <tr style=\"text-align: right;\">\n",
       "      <th></th>\n",
       "      <th>Código da Área</th>\n",
       "      <th>Código da IES</th>\n",
       "      <th>Código do Curso</th>\n",
       "      <th>Código do Município**</th>\n",
       "      <th>Nº de Concluintes Inscritos</th>\n",
       "      <th>Nº  de Concluintes Participantes</th>\n",
       "    </tr>\n",
       "  </thead>\n",
       "  <tbody>\n",
       "    <tr>\n",
       "      <th>count</th>\n",
       "      <td>9812.000000</td>\n",
       "      <td>9812.000000</td>\n",
       "      <td>9.812000e+03</td>\n",
       "      <td>9.812000e+03</td>\n",
       "      <td>9812.000000</td>\n",
       "      <td>9812.000000</td>\n",
       "    </tr>\n",
       "    <tr>\n",
       "      <th>mean</th>\n",
       "      <td>2093.514778</td>\n",
       "      <td>2845.561557</td>\n",
       "      <td>8.530443e+05</td>\n",
       "      <td>3.408140e+06</td>\n",
       "      <td>41.407868</td>\n",
       "      <td>35.337138</td>\n",
       "    </tr>\n",
       "    <tr>\n",
       "      <th>std</th>\n",
       "      <td>2825.544709</td>\n",
       "      <td>4760.763675</td>\n",
       "      <td>9.556401e+05</td>\n",
       "      <td>9.425349e+05</td>\n",
       "      <td>82.065851</td>\n",
       "      <td>64.379741</td>\n",
       "    </tr>\n",
       "    <tr>\n",
       "      <th>min</th>\n",
       "      <td>5.000000</td>\n",
       "      <td>1.000000</td>\n",
       "      <td>3.000000e+00</td>\n",
       "      <td>1.100023e+06</td>\n",
       "      <td>1.000000</td>\n",
       "      <td>0.000000</td>\n",
       "    </tr>\n",
       "    <tr>\n",
       "      <th>25%</th>\n",
       "      <td>21.000000</td>\n",
       "      <td>437.000000</td>\n",
       "      <td>8.194775e+04</td>\n",
       "      <td>2.927408e+06</td>\n",
       "      <td>13.000000</td>\n",
       "      <td>11.000000</td>\n",
       "    </tr>\n",
       "    <tr>\n",
       "      <th>50%</th>\n",
       "      <td>36.000000</td>\n",
       "      <td>1173.000000</td>\n",
       "      <td>1.158212e+06</td>\n",
       "      <td>3.505500e+06</td>\n",
       "      <td>26.000000</td>\n",
       "      <td>23.000000</td>\n",
       "    </tr>\n",
       "    <tr>\n",
       "      <th>75%</th>\n",
       "      <td>5806.000000</td>\n",
       "      <td>2779.000000</td>\n",
       "      <td>1.330392e+06</td>\n",
       "      <td>4.113700e+06</td>\n",
       "      <td>47.000000</td>\n",
       "      <td>41.000000</td>\n",
       "    </tr>\n",
       "    <tr>\n",
       "      <th>max</th>\n",
       "      <td>6411.000000</td>\n",
       "      <td>25352.000000</td>\n",
       "      <td>5.001707e+07</td>\n",
       "      <td>5.300108e+06</td>\n",
       "      <td>3754.000000</td>\n",
       "      <td>2874.000000</td>\n",
       "    </tr>\n",
       "  </tbody>\n",
       "</table>\n",
       "</div>"
      ],
      "text/plain": [
       "       Código da Área  Código da IES  Código do Curso  Código do Município**  \\\n",
       "count     9812.000000    9812.000000     9.812000e+03           9.812000e+03   \n",
       "mean      2093.514778    2845.561557     8.530443e+05           3.408140e+06   \n",
       "std       2825.544709    4760.763675     9.556401e+05           9.425349e+05   \n",
       "min          5.000000       1.000000     3.000000e+00           1.100023e+06   \n",
       "25%         21.000000     437.000000     8.194775e+04           2.927408e+06   \n",
       "50%         36.000000    1173.000000     1.158212e+06           3.505500e+06   \n",
       "75%       5806.000000    2779.000000     1.330392e+06           4.113700e+06   \n",
       "max       6411.000000   25352.000000     5.001707e+07           5.300108e+06   \n",
       "\n",
       "       Nº de Concluintes Inscritos  Nº  de Concluintes Participantes  \n",
       "count                  9812.000000                       9812.000000  \n",
       "mean                     41.407868                         35.337138  \n",
       "std                      82.065851                         64.379741  \n",
       "min                       1.000000                          0.000000  \n",
       "25%                      13.000000                         11.000000  \n",
       "50%                      26.000000                         23.000000  \n",
       "75%                      47.000000                         41.000000  \n",
       "max                    3754.000000                       2874.000000  "
      ]
     },
     "execution_count": 6,
     "metadata": {},
     "output_type": "execute_result"
    }
   ],
   "source": [
    "df.describe()\n"
   ]
  },
  {
   "cell_type": "markdown",
   "id": "9263878e",
   "metadata": {},
   "source": [
    "#### Tratando valores\n"
   ]
  },
  {
   "cell_type": "code",
   "execution_count": 7,
   "id": "e7afe75c",
   "metadata": {},
   "outputs": [],
   "source": [
    "df.isnull().sum()\n",
    "df = df.dropna()  # Remove linhas com dados faltantes"
   ]
  },
  {
   "cell_type": "markdown",
   "id": "0ded0ef5",
   "metadata": {},
   "source": [
    "#### Seleção de colunas"
   ]
  },
  {
   "cell_type": "code",
   "execution_count": 11,
   "id": "400bebfa",
   "metadata": {},
   "outputs": [],
   "source": [
    "df = df[['Ano', 'Área de Avaliação', 'Sigla da IES*']]"
   ]
  },
  {
   "cell_type": "markdown",
   "id": "f485a1c4",
   "metadata": {},
   "source": [
    "#### Média de uma coluna por ano"
   ]
  },
  {
   "cell_type": "code",
   "execution_count": 18,
   "id": "8899603d",
   "metadata": {},
   "outputs": [
    {
     "ename": "KeyError",
     "evalue": "'Column not found: Matriculados'",
     "output_type": "error",
     "traceback": [
      "\u001b[31m---------------------------------------------------------------------------\u001b[39m",
      "\u001b[31mKeyError\u001b[39m                                  Traceback (most recent call last)",
      "\u001b[36mCell\u001b[39m\u001b[36m \u001b[39m\u001b[32mIn[18]\u001b[39m\u001b[32m, line 1\u001b[39m\n\u001b[32m----> \u001b[39m\u001b[32m1\u001b[39m \u001b[43mdf\u001b[49m\u001b[43m.\u001b[49m\u001b[43mgroupby\u001b[49m\u001b[43m(\u001b[49m\u001b[33;43m'\u001b[39;49m\u001b[33;43mAno\u001b[39;49m\u001b[33;43m'\u001b[39;49m\u001b[43m)\u001b[49m\u001b[43m[\u001b[49m\u001b[33;43m'\u001b[39;49m\u001b[33;43mMatriculados\u001b[39;49m\u001b[33;43m'\u001b[39;49m\u001b[43m]\u001b[49m.mean()\n",
      "\u001b[36mFile \u001b[39m\u001b[32mc:\\Users\\vickg\\OneDrive\\Área de Trabalho\\faculdade\\SENAC\\COMPET\\DataScience\\DataScience-Formacao4.0\\venv\\Lib\\site-packages\\pandas\\core\\groupby\\generic.py:1951\u001b[39m, in \u001b[36mDataFrameGroupBy.__getitem__\u001b[39m\u001b[34m(self, key)\u001b[39m\n\u001b[32m   1944\u001b[39m \u001b[38;5;28;01mif\u001b[39;00m \u001b[38;5;28misinstance\u001b[39m(key, \u001b[38;5;28mtuple\u001b[39m) \u001b[38;5;129;01mand\u001b[39;00m \u001b[38;5;28mlen\u001b[39m(key) > \u001b[32m1\u001b[39m:\n\u001b[32m   1945\u001b[39m     \u001b[38;5;66;03m# if len == 1, then it becomes a SeriesGroupBy and this is actually\u001b[39;00m\n\u001b[32m   1946\u001b[39m     \u001b[38;5;66;03m# valid syntax, so don't raise\u001b[39;00m\n\u001b[32m   1947\u001b[39m     \u001b[38;5;28;01mraise\u001b[39;00m \u001b[38;5;167;01mValueError\u001b[39;00m(\n\u001b[32m   1948\u001b[39m         \u001b[33m\"\u001b[39m\u001b[33mCannot subset columns with a tuple with more than one element. \u001b[39m\u001b[33m\"\u001b[39m\n\u001b[32m   1949\u001b[39m         \u001b[33m\"\u001b[39m\u001b[33mUse a list instead.\u001b[39m\u001b[33m\"\u001b[39m\n\u001b[32m   1950\u001b[39m     )\n\u001b[32m-> \u001b[39m\u001b[32m1951\u001b[39m \u001b[38;5;28;01mreturn\u001b[39;00m \u001b[38;5;28;43msuper\u001b[39;49m\u001b[43m(\u001b[49m\u001b[43m)\u001b[49m\u001b[43m.\u001b[49m\u001b[34;43m__getitem__\u001b[39;49m\u001b[43m(\u001b[49m\u001b[43mkey\u001b[49m\u001b[43m)\u001b[49m\n",
      "\u001b[36mFile \u001b[39m\u001b[32mc:\\Users\\vickg\\OneDrive\\Área de Trabalho\\faculdade\\SENAC\\COMPET\\DataScience\\DataScience-Formacao4.0\\venv\\Lib\\site-packages\\pandas\\core\\base.py:244\u001b[39m, in \u001b[36mSelectionMixin.__getitem__\u001b[39m\u001b[34m(self, key)\u001b[39m\n\u001b[32m    242\u001b[39m \u001b[38;5;28;01melse\u001b[39;00m:\n\u001b[32m    243\u001b[39m     \u001b[38;5;28;01mif\u001b[39;00m key \u001b[38;5;129;01mnot\u001b[39;00m \u001b[38;5;129;01min\u001b[39;00m \u001b[38;5;28mself\u001b[39m.obj:\n\u001b[32m--> \u001b[39m\u001b[32m244\u001b[39m         \u001b[38;5;28;01mraise\u001b[39;00m \u001b[38;5;167;01mKeyError\u001b[39;00m(\u001b[33mf\u001b[39m\u001b[33m\"\u001b[39m\u001b[33mColumn not found: \u001b[39m\u001b[38;5;132;01m{\u001b[39;00mkey\u001b[38;5;132;01m}\u001b[39;00m\u001b[33m\"\u001b[39m)\n\u001b[32m    245\u001b[39m     ndim = \u001b[38;5;28mself\u001b[39m.obj[key].ndim\n\u001b[32m    246\u001b[39m     \u001b[38;5;28;01mreturn\u001b[39;00m \u001b[38;5;28mself\u001b[39m._gotitem(key, ndim=ndim)\n",
      "\u001b[31mKeyError\u001b[39m: 'Column not found: Matriculados'"
     ]
    }
   ],
   "source": [
    "df.groupby('Ano')['Matriculados'].mean()\n"
   ]
  }
 ],
 "metadata": {
  "kernelspec": {
   "display_name": "venv",
   "language": "python",
   "name": "python3"
  },
  "language_info": {
   "codemirror_mode": {
    "name": "ipython",
    "version": 3
   },
   "file_extension": ".py",
   "mimetype": "text/x-python",
   "name": "python",
   "nbconvert_exporter": "python",
   "pygments_lexer": "ipython3",
   "version": "3.12.6"
  }
 },
 "nbformat": 4,
 "nbformat_minor": 5
}
